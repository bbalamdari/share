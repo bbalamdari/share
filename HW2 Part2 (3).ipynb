{
 "cells": [
  {
   "cell_type": "code",
   "execution_count": null,
   "metadata": {
    "scrolled": false
   },
   "outputs": [],
   "source": [
    "install.packages(\"ISLR\")\n",
    "library(\"ISLR\")\n",
    "data(\"Carseats\")\n",
    "install.packages(\"PerformanceAnalytics\")\n",
    "library(\"PerformanceAnalytics\")\n",
    "install.packages(\"lubridate\")\n",
    "library(\"lubridate\")\n",
    "install.packages(\"kableExtra\")\n",
    "library(\"kableExtra\")\n",
    "options(knitr.table.format = \"latex\")\n",
    "library(xts)"
   ]
  },
  {
   "cell_type": "code",
   "execution_count": 143,
   "metadata": {
    "scrolled": true
   },
   "outputs": [
    {
     "data": {
      "text/html": [
       "<table>\n",
       "<caption>A data.frame: 5 × 2</caption>\n",
       "<thead>\n",
       "\t<tr><th></th><th scope=col>weight</th><th scope=col>group</th></tr>\n",
       "\t<tr><th></th><th scope=col>&lt;dbl&gt;</th><th scope=col>&lt;fct&gt;</th></tr>\n",
       "</thead>\n",
       "<tbody>\n",
       "\t<tr><th scope=row>1</th><td>4.17</td><td>ctrl</td></tr>\n",
       "\t<tr><th scope=row>2</th><td>5.58</td><td>ctrl</td></tr>\n",
       "\t<tr><th scope=row>3</th><td>5.18</td><td>ctrl</td></tr>\n",
       "\t<tr><th scope=row>4</th><td>6.11</td><td>ctrl</td></tr>\n",
       "\t<tr><th scope=row>5</th><td>4.50</td><td>ctrl</td></tr>\n",
       "</tbody>\n",
       "</table>\n"
      ],
      "text/latex": [
       "A data.frame: 5 × 2\n",
       "\\begin{tabular}{r|ll}\n",
       "  & weight & group\\\\\n",
       "  & <dbl> & <fct>\\\\\n",
       "\\hline\n",
       "\t1 & 4.17 & ctrl\\\\\n",
       "\t2 & 5.58 & ctrl\\\\\n",
       "\t3 & 5.18 & ctrl\\\\\n",
       "\t4 & 6.11 & ctrl\\\\\n",
       "\t5 & 4.50 & ctrl\\\\\n",
       "\\end{tabular}\n"
      ],
      "text/markdown": [
       "\n",
       "A data.frame: 5 × 2\n",
       "\n",
       "| <!--/--> | weight &lt;dbl&gt; | group &lt;fct&gt; |\n",
       "|---|---|---|\n",
       "| 1 | 4.17 | ctrl |\n",
       "| 2 | 5.58 | ctrl |\n",
       "| 3 | 5.18 | ctrl |\n",
       "| 4 | 6.11 | ctrl |\n",
       "| 5 | 4.50 | ctrl |\n",
       "\n"
      ],
      "text/plain": [
       "  weight group\n",
       "1 4.17   ctrl \n",
       "2 5.58   ctrl \n",
       "3 5.18   ctrl \n",
       "4 6.11   ctrl \n",
       "5 4.50   ctrl "
      ]
     },
     "metadata": {},
     "output_type": "display_data"
    }
   ],
   "source": [
    "#Reading Data\n",
    "library(\"datasets\") \n",
    "data(PlantGrowth) \n",
    "head(PlantGrowth, n=5)"
   ]
  },
  {
   "cell_type": "code",
   "execution_count": 144,
   "metadata": {},
   "outputs": [
    {
     "data": {
      "text/html": [
       "<table>\n",
       "<caption>A data.frame: 5 × 2</caption>\n",
       "<thead>\n",
       "\t<tr><th></th><th scope=col>weight</th><th scope=col>group</th></tr>\n",
       "\t<tr><th></th><th scope=col>&lt;dbl&gt;</th><th scope=col>&lt;fct&gt;</th></tr>\n",
       "</thead>\n",
       "<tbody>\n",
       "\t<tr><th scope=row>1</th><td>4.17</td><td>ctrl</td></tr>\n",
       "\t<tr><th scope=row>2</th><td>5.58</td><td>ctrl</td></tr>\n",
       "\t<tr><th scope=row>3</th><td>5.18</td><td>ctrl</td></tr>\n",
       "\t<tr><th scope=row>4</th><td>6.11</td><td>ctrl</td></tr>\n",
       "\t<tr><th scope=row>5</th><td>4.50</td><td>ctrl</td></tr>\n",
       "</tbody>\n",
       "</table>\n"
      ],
      "text/latex": [
       "A data.frame: 5 × 2\n",
       "\\begin{tabular}{r|ll}\n",
       "  & weight & group\\\\\n",
       "  & <dbl> & <fct>\\\\\n",
       "\\hline\n",
       "\t1 & 4.17 & ctrl\\\\\n",
       "\t2 & 5.58 & ctrl\\\\\n",
       "\t3 & 5.18 & ctrl\\\\\n",
       "\t4 & 6.11 & ctrl\\\\\n",
       "\t5 & 4.50 & ctrl\\\\\n",
       "\\end{tabular}\n"
      ],
      "text/markdown": [
       "\n",
       "A data.frame: 5 × 2\n",
       "\n",
       "| <!--/--> | weight &lt;dbl&gt; | group &lt;fct&gt; |\n",
       "|---|---|---|\n",
       "| 1 | 4.17 | ctrl |\n",
       "| 2 | 5.58 | ctrl |\n",
       "| 3 | 5.18 | ctrl |\n",
       "| 4 | 6.11 | ctrl |\n",
       "| 5 | 4.50 | ctrl |\n",
       "\n"
      ],
      "text/plain": [
       "  weight group\n",
       "1 4.17   ctrl \n",
       "2 5.58   ctrl \n",
       "3 5.18   ctrl \n",
       "4 6.11   ctrl \n",
       "5 4.50   ctrl "
      ]
     },
     "metadata": {},
     "output_type": "display_data"
    },
    {
     "data": {
      "text/html": [
       "<table>\n",
       "<caption>A data.frame: 5 × 2</caption>\n",
       "<thead>\n",
       "\t<tr><th></th><th scope=col>weight</th><th scope=col>group</th></tr>\n",
       "\t<tr><th></th><th scope=col>&lt;dbl&gt;</th><th scope=col>&lt;fct&gt;</th></tr>\n",
       "</thead>\n",
       "<tbody>\n",
       "\t<tr><th scope=row>1</th><td>4.17</td><td>ctrl</td></tr>\n",
       "\t<tr><th scope=row>2</th><td>5.58</td><td>ctrl</td></tr>\n",
       "\t<tr><th scope=row>3</th><td>5.18</td><td>ctrl</td></tr>\n",
       "\t<tr><th scope=row>4</th><td>6.11</td><td>ctrl</td></tr>\n",
       "\t<tr><th scope=row>5</th><td>4.50</td><td>ctrl</td></tr>\n",
       "</tbody>\n",
       "</table>\n"
      ],
      "text/latex": [
       "A data.frame: 5 × 2\n",
       "\\begin{tabular}{r|ll}\n",
       "  & weight & group\\\\\n",
       "  & <dbl> & <fct>\\\\\n",
       "\\hline\n",
       "\t1 & 4.17 & ctrl\\\\\n",
       "\t2 & 5.58 & ctrl\\\\\n",
       "\t3 & 5.18 & ctrl\\\\\n",
       "\t4 & 6.11 & ctrl\\\\\n",
       "\t5 & 4.50 & ctrl\\\\\n",
       "\\end{tabular}\n"
      ],
      "text/markdown": [
       "\n",
       "A data.frame: 5 × 2\n",
       "\n",
       "| <!--/--> | weight &lt;dbl&gt; | group &lt;fct&gt; |\n",
       "|---|---|---|\n",
       "| 1 | 4.17 | ctrl |\n",
       "| 2 | 5.58 | ctrl |\n",
       "| 3 | 5.18 | ctrl |\n",
       "| 4 | 6.11 | ctrl |\n",
       "| 5 | 4.50 | ctrl |\n",
       "\n"
      ],
      "text/plain": [
       "  weight group\n",
       "1 4.17   ctrl \n",
       "2 5.58   ctrl \n",
       "3 5.18   ctrl \n",
       "4 6.11   ctrl \n",
       "5 4.50   ctrl "
      ]
     },
     "metadata": {},
     "output_type": "display_data"
    }
   ],
   "source": [
    "#Subset to trt1 and trt2\n",
    "\n",
    "G1=as.data.frame(subset(PlantGrowth,PlantGrowth$group==\"ctrl\" | PlantGrowth$group==\"trt1\" ))\n",
    "G2=subset(PlantGrowth,PlantGrowth$group==\"ctrl\" | PlantGrowth$group==\"trt2\" )\n",
    "head(G1, n=5)\n",
    "\n",
    "head(G2, n=5)"
   ]
  },
  {
   "cell_type": "markdown",
   "metadata": {},
   "source": [
    "#Q1.A. \n",
    "The difference estimator for group 1 is -0.3710 and for group 2 is 0.4940."
   ]
  },
  {
   "cell_type": "code",
   "execution_count": 145,
   "metadata": {},
   "outputs": [
    {
     "data": {
      "text/plain": [
       "\n",
       "Call:\n",
       "lm(formula = weight ~ group, data = G1)\n",
       "\n",
       "Residuals:\n",
       "    Min      1Q  Median      3Q     Max \n",
       "-1.0710 -0.4938  0.0685  0.2462  1.3690 \n",
       "\n",
       "Coefficients:\n",
       "            Estimate Std. Error t value Pr(>|t|)    \n",
       "(Intercept)   5.0320     0.2202  22.850 9.55e-15 ***\n",
       "grouptrt1    -0.3710     0.3114  -1.191    0.249    \n",
       "---\n",
       "Signif. codes:  0 '***' 0.001 '**' 0.01 '*' 0.05 '.' 0.1 ' ' 1\n",
       "\n",
       "Residual standard error: 0.6964 on 18 degrees of freedom\n",
       "Multiple R-squared:  0.07308,\tAdjusted R-squared:  0.02158 \n",
       "F-statistic: 1.419 on 1 and 18 DF,  p-value: 0.249\n"
      ]
     },
     "metadata": {},
     "output_type": "display_data"
    }
   ],
   "source": [
    "model.G1=lm(weight~group, data=G1)\n",
    "summary(model.G1)"
   ]
  },
  {
   "cell_type": "code",
   "execution_count": 146,
   "metadata": {},
   "outputs": [
    {
     "data": {
      "text/plain": [
       "\n",
       "Call:\n",
       "lm(formula = weight ~ group, data = G2)\n",
       "\n",
       "Residuals:\n",
       "   Min     1Q Median     3Q    Max \n",
       "-0.862 -0.410 -0.006  0.280  1.078 \n",
       "\n",
       "Coefficients:\n",
       "            Estimate Std. Error t value Pr(>|t|)    \n",
       "(Intercept)   5.0320     0.1637  30.742   <2e-16 ***\n",
       "grouptrt2     0.4940     0.2315   2.134   0.0469 *  \n",
       "---\n",
       "Signif. codes:  0 '***' 0.001 '**' 0.01 '*' 0.05 '.' 0.1 ' ' 1\n",
       "\n",
       "Residual standard error: 0.5176 on 18 degrees of freedom\n",
       "Multiple R-squared:  0.2019,\tAdjusted R-squared:  0.1576 \n",
       "F-statistic: 4.554 on 1 and 18 DF,  p-value: 0.04685\n"
      ]
     },
     "metadata": {},
     "output_type": "display_data"
    }
   ],
   "source": [
    "model.G2=lm(weight~group, data=G2)\n",
    "summary(model.G2)"
   ]
  },
  {
   "cell_type": "markdown",
   "metadata": {},
   "source": [
    "#Q1.B. \n",
    "The mean for control group, treatment 1 and treatment 2 are 5.032, 4.661 and 5.526 respectively. Group 2 has the highest average weight. "
   ]
  },
  {
   "cell_type": "code",
   "execution_count": 147,
   "metadata": {},
   "outputs": [
    {
     "data": {
      "text/html": [
       "5.032"
      ],
      "text/latex": [
       "5.032"
      ],
      "text/markdown": [
       "5.032"
      ],
      "text/plain": [
       "[1] 5.032"
      ]
     },
     "metadata": {},
     "output_type": "display_data"
    },
    {
     "data": {
      "text/html": [
       "4.661"
      ],
      "text/latex": [
       "4.661"
      ],
      "text/markdown": [
       "4.661"
      ],
      "text/plain": [
       "[1] 4.661"
      ]
     },
     "metadata": {},
     "output_type": "display_data"
    },
    {
     "data": {
      "text/html": [
       "5.526"
      ],
      "text/latex": [
       "5.526"
      ],
      "text/markdown": [
       "5.526"
      ],
      "text/plain": [
       "[1] 5.526"
      ]
     },
     "metadata": {},
     "output_type": "display_data"
    }
   ],
   "source": [
    "ctrl.mean=mean(subset(PlantGrowth,PlantGrowth$group==\"ctrl\" )$weight)\n",
    "trt1.mean=mean(subset(PlantGrowth,PlantGrowth$group==\"trt1\" )$weight)\n",
    "trt2.mean=mean(subset(PlantGrowth,PlantGrowth$group==\"trt2\" )$weight)\n",
    "ctrl.mean\n",
    "trt1.mean\n",
    "trt2.mean\n",
    "               "
   ]
  },
  {
   "cell_type": "markdown",
   "metadata": {},
   "source": [
    "#Q1.C. \n",
    "I segmented into four groups. The A is Philadelphia with d=0, B is Philadelphia with d=1, C is NJ with d=0 and D is NJ with d=1.\n"
   ]
  },
  {
   "cell_type": "code",
   "execution_count": 196,
   "metadata": {
    "scrolled": true
   },
   "outputs": [],
   "source": [
    "wage=read.csv(\"Min_Wage.csv\", header=TRUE)\n",
    "\n",
    "wage$d=as.factor(wage$d)"
   ]
  },
  {
   "cell_type": "code",
   "execution_count": 149,
   "metadata": {},
   "outputs": [],
   "source": [
    "A=as.data.frame(subset(wage,wage$d==\"0\" & wage$State==\"Philadelphia\" ))\n",
    "B=as.data.frame(subset(wage,wage$d==\"1\" & wage$State==\"Philadelphia\" ))\n",
    "\n",
    "C=as.data.frame(subset(wage,wage$d==\"0\" & wage$State==\"New Jersey\" ))\n",
    "D=as.data.frame(subset(wage,wage$d==\"1\" & wage$State==\"New Jersey\" ))\n"
   ]
  },
  {
   "cell_type": "markdown",
   "metadata": {},
   "source": [
    "#Q1.D\n",
    "\n",
    "i. the means of fte for A= 23.38, B= 21.10, C=20.43, D=20.90\n",
    "\n",
    "ii. difference in difference is 2.75\n"
   ]
  },
  {
   "cell_type": "code",
   "execution_count": 150,
   "metadata": {},
   "outputs": [
    {
     "data": {
      "text/html": [
       "23.38"
      ],
      "text/latex": [
       "23.38"
      ],
      "text/markdown": [
       "23.38"
      ],
      "text/plain": [
       "[1] 23.38"
      ]
     },
     "metadata": {},
     "output_type": "display_data"
    },
    {
     "data": {
      "text/html": [
       "21.1"
      ],
      "text/latex": [
       "21.1"
      ],
      "text/markdown": [
       "21.1"
      ],
      "text/plain": [
       "[1] 21.1"
      ]
     },
     "metadata": {},
     "output_type": "display_data"
    },
    {
     "data": {
      "text/html": [
       "20.43"
      ],
      "text/latex": [
       "20.43"
      ],
      "text/markdown": [
       "20.43"
      ],
      "text/plain": [
       "[1] 20.43"
      ]
     },
     "metadata": {},
     "output_type": "display_data"
    },
    {
     "data": {
      "text/html": [
       "20.9"
      ],
      "text/latex": [
       "20.9"
      ],
      "text/markdown": [
       "20.9"
      ],
      "text/plain": [
       "[1] 20.9"
      ]
     },
     "metadata": {},
     "output_type": "display_data"
    }
   ],
   "source": [
    "mean.A=round(mean(A$fte), digits=2)\n",
    "mean.B=round(mean(B$fte), digits=2)\n",
    "\n",
    "mean.C=round(mean(C$fte), digits=2)\n",
    "mean.D=round(mean(D$fte), digits=2)\n",
    "\n",
    "mean.A\n",
    "mean.B\n",
    "mean.C\n",
    "mean.D"
   ]
  },
  {
   "cell_type": "code",
   "execution_count": 151,
   "metadata": {},
   "outputs": [
    {
     "data": {
      "text/html": [
       "2.75"
      ],
      "text/latex": [
       "2.75"
      ],
      "text/markdown": [
       "2.75"
      ],
      "text/plain": [
       "[1] 2.75"
      ]
     },
     "metadata": {},
     "output_type": "display_data"
    }
   ],
   "source": [
    "dif.in.dif=(mean.D-mean.C)-(mean.B-mean.A)\n",
    "dif.in.dif"
   ]
  },
  {
   "cell_type": "markdown",
   "metadata": {},
   "source": [
    "#Q1. E. \n",
    "The interaction coefficient in the output model is 2.75 which matches the number calculated above through means of groups."
   ]
  },
  {
   "cell_type": "code",
   "execution_count": 153,
   "metadata": {},
   "outputs": [
    {
     "data": {
      "text/plain": [
       "\n",
       "Call:\n",
       "lm(formula = fte ~ relevel(State, ref = \"Philadelphia\") + relevel(d, \n",
       "    ref = \"0\") + relevel(State, ref = \"Philadelphia\") * relevel(d, \n",
       "    ref = \"0\"), data = wage)\n",
       "\n",
       "Residuals:\n",
       "    Min      1Q  Median      3Q     Max \n",
       "-21.097  -6.472  -0.931   4.603  64.569 \n",
       "\n",
       "Coefficients:\n",
       "                                                                      Estimate\n",
       "(Intercept)                                                             23.380\n",
       "relevel(State, ref = \"Philadelphia\")New Jersey                          -2.949\n",
       "relevel(d, ref = \"0\")1                                                  -2.283\n",
       "relevel(State, ref = \"Philadelphia\")New Jersey:relevel(d, ref = \"0\")1    2.750\n",
       "                                                                      Std. Error\n",
       "(Intercept)                                                                1.098\n",
       "relevel(State, ref = \"Philadelphia\")New Jersey                             1.224\n",
       "relevel(d, ref = \"0\")1                                                     1.553\n",
       "relevel(State, ref = \"Philadelphia\")New Jersey:relevel(d, ref = \"0\")1      1.731\n",
       "                                                                      t value\n",
       "(Intercept)                                                            21.288\n",
       "relevel(State, ref = \"Philadelphia\")New Jersey                         -2.409\n",
       "relevel(d, ref = \"0\")1                                                 -1.470\n",
       "relevel(State, ref = \"Philadelphia\")New Jersey:relevel(d, ref = \"0\")1   1.588\n",
       "                                                                      Pr(>|t|)\n",
       "(Intercept)                                                             <2e-16\n",
       "relevel(State, ref = \"Philadelphia\")New Jersey                          0.0162\n",
       "relevel(d, ref = \"0\")1                                                  0.1419\n",
       "relevel(State, ref = \"Philadelphia\")New Jersey:relevel(d, ref = \"0\")1   0.1126\n",
       "                                                                         \n",
       "(Intercept)                                                           ***\n",
       "relevel(State, ref = \"Philadelphia\")New Jersey                        *  \n",
       "relevel(d, ref = \"0\")1                                                   \n",
       "relevel(State, ref = \"Philadelphia\")New Jersey:relevel(d, ref = \"0\")1    \n",
       "---\n",
       "Signif. codes:  0 '***' 0.001 '**' 0.01 '*' 0.05 '.' 0.1 ' ' 1\n",
       "\n",
       "Residual standard error: 9.511 on 764 degrees of freedom\n",
       "Multiple R-squared:  0.007587,\tAdjusted R-squared:  0.00369 \n",
       "F-statistic: 1.947 on 3 and 764 DF,  p-value: 0.1206\n"
      ]
     },
     "metadata": {},
     "output_type": "display_data"
    }
   ],
   "source": [
    "d.in.d.reg=lm(fte~relevel(State, ref = \"Philadelphia\")+relevel(d, ref = \"0\")+relevel(State, ref = \"Philadelphia\")*relevel(d, ref = \"0\"), data=wage)\n",
    "summary(d.in.d.reg)"
   ]
  },
  {
   "cell_type": "code",
   "execution_count": null,
   "metadata": {},
   "outputs": [],
   "source": [
    "*****************************Question2**********************************"
   ]
  },
  {
   "cell_type": "code",
   "execution_count": 1,
   "metadata": {},
   "outputs": [
    {
     "data": {
      "text/html": [
       "<table>\n",
       "<caption>A data.frame: 5 × 4</caption>\n",
       "<thead>\n",
       "\t<tr><th></th><th scope=col>Date</th><th scope=col>BrkRet</th><th scope=col>MKT</th><th scope=col>RF</th></tr>\n",
       "\t<tr><th></th><th scope=col>&lt;fct&gt;</th><th scope=col>&lt;dbl&gt;</th><th scope=col>&lt;dbl&gt;</th><th scope=col>&lt;dbl&gt;</th></tr>\n",
       "</thead>\n",
       "<tbody>\n",
       "\t<tr><th scope=row>1</th><td>11/30/1976</td><td>0.1544</td><td> 0.0076</td><td>0.0040</td></tr>\n",
       "\t<tr><th scope=row>2</th><td>12/31/1976</td><td>0.1465</td><td> 0.0605</td><td>0.0040</td></tr>\n",
       "\t<tr><th scope=row>3</th><td>1/31/1977 </td><td>0.0000</td><td>-0.0369</td><td>0.0036</td></tr>\n",
       "\t<tr><th scope=row>4</th><td>2/28/1977 </td><td>0.0000</td><td>-0.0160</td><td>0.0035</td></tr>\n",
       "\t<tr><th scope=row>5</th><td>3/31/1977 </td><td>0.0778</td><td>-0.0099</td><td>0.0038</td></tr>\n",
       "</tbody>\n",
       "</table>\n"
      ],
      "text/latex": [
       "A data.frame: 5 × 4\n",
       "\\begin{tabular}{r|llll}\n",
       "  & Date & BrkRet & MKT & RF\\\\\n",
       "  & <fct> & <dbl> & <dbl> & <dbl>\\\\\n",
       "\\hline\n",
       "\t1 & 11/30/1976 & 0.1544 &  0.0076 & 0.0040\\\\\n",
       "\t2 & 12/31/1976 & 0.1465 &  0.0605 & 0.0040\\\\\n",
       "\t3 & 1/31/1977  & 0.0000 & -0.0369 & 0.0036\\\\\n",
       "\t4 & 2/28/1977  & 0.0000 & -0.0160 & 0.0035\\\\\n",
       "\t5 & 3/31/1977  & 0.0778 & -0.0099 & 0.0038\\\\\n",
       "\\end{tabular}\n"
      ],
      "text/markdown": [
       "\n",
       "A data.frame: 5 × 4\n",
       "\n",
       "| <!--/--> | Date &lt;fct&gt; | BrkRet &lt;dbl&gt; | MKT &lt;dbl&gt; | RF &lt;dbl&gt; |\n",
       "|---|---|---|---|---|\n",
       "| 1 | 11/30/1976 | 0.1544 |  0.0076 | 0.0040 |\n",
       "| 2 | 12/31/1976 | 0.1465 |  0.0605 | 0.0040 |\n",
       "| 3 | 1/31/1977  | 0.0000 | -0.0369 | 0.0036 |\n",
       "| 4 | 2/28/1977  | 0.0000 | -0.0160 | 0.0035 |\n",
       "| 5 | 3/31/1977  | 0.0778 | -0.0099 | 0.0038 |\n",
       "\n"
      ],
      "text/plain": [
       "  Date       BrkRet MKT     RF    \n",
       "1 11/30/1976 0.1544  0.0076 0.0040\n",
       "2 12/31/1976 0.1465  0.0605 0.0040\n",
       "3 1/31/1977  0.0000 -0.0369 0.0036\n",
       "4 2/28/1977  0.0000 -0.0160 0.0035\n",
       "5 3/31/1977  0.0778 -0.0099 0.0038"
      ]
     },
     "metadata": {},
     "output_type": "display_data"
    }
   ],
   "source": [
    "Berkshire=read.csv(\"Berkshire.csv\", header=TRUE)\n",
    "head(Berkshire, n=5)"
   ]
  },
  {
   "cell_type": "markdown",
   "metadata": {},
   "source": [
    "#Q2.A. \n",
    "Standard deviation is 0.07"
   ]
  },
  {
   "cell_type": "code",
   "execution_count": 2,
   "metadata": {},
   "outputs": [
    {
     "data": {
      "text/html": [
       "0.07"
      ],
      "text/latex": [
       "0.07"
      ],
      "text/markdown": [
       "0.07"
      ],
      "text/plain": [
       "[1] 0.07"
      ]
     },
     "metadata": {},
     "output_type": "display_data"
    }
   ],
   "source": [
    "sd.BrkRet=round(sd(Berkshire$BrkRet), digits=2)\n",
    "sd.BrkRet"
   ]
  },
  {
   "cell_type": "markdown",
   "metadata": {},
   "source": [
    "#Q2.B. \n",
    "average is 0.02 or 2% per month, and over the entire period the fund has had 414,399% return increase"
   ]
  },
  {
   "cell_type": "code",
   "execution_count": 7,
   "metadata": {},
   "outputs": [
    {
     "data": {
      "text/html": [
       "0.02"
      ],
      "text/latex": [
       "0.02"
      ],
      "text/markdown": [
       "0.02"
      ],
      "text/plain": [
       "[1] 0.02"
      ]
     },
     "metadata": {},
     "output_type": "display_data"
    },
    {
     "data": {
      "text/html": [
       "4143.99"
      ],
      "text/latex": [
       "4143.99"
      ],
      "text/markdown": [
       "4143.99"
      ],
      "text/plain": [
       "[1] 4143.99"
      ]
     },
     "metadata": {},
     "output_type": "display_data"
    }
   ],
   "source": [
    "mean.BrkRet=round(mean(Berkshire$BrkRet), digits=2)\n",
    "mean.BrkRet\n",
    "\n",
    "\n",
    "comp.return=round((Return.cumulative(Berkshire$BrkRet)), digits=2)\n",
    "comp.return"
   ]
  },
  {
   "cell_type": "markdown",
   "metadata": {},
   "source": [
    "#Q2.C. \n",
    "In average per month, Berkshire Hathway has been 2 times or 100 % better return compared to market"
   ]
  },
  {
   "cell_type": "code",
   "execution_count": 163,
   "metadata": {},
   "outputs": [
    {
     "data": {
      "text/html": [
       "0.01"
      ],
      "text/latex": [
       "0.01"
      ],
      "text/markdown": [
       "0.01"
      ],
      "text/plain": [
       "[1] 0.01"
      ]
     },
     "metadata": {},
     "output_type": "display_data"
    },
    {
     "data": {
      "text/html": [
       "100"
      ],
      "text/latex": [
       "100"
      ],
      "text/markdown": [
       "100"
      ],
      "text/plain": [
       "[1] 100"
      ]
     },
     "metadata": {},
     "output_type": "display_data"
    }
   ],
   "source": [
    "mean.MKT=round(mean(Berkshire$MKT), digits=2)\n",
    "mean.MKT\n",
    "\n",
    "(mean.BrkRet-mean.MKT)/mean.MKT*100"
   ]
  },
  {
   "cell_type": "markdown",
   "metadata": {},
   "source": [
    "#Q3.D.\n",
    "$10,000 investment at the beggining of the investemnt would have been $41,449,900 by the end of the period"
   ]
  },
  {
   "cell_type": "code",
   "execution_count": 8,
   "metadata": {},
   "outputs": [
    {
     "data": {
      "text/html": [
       "41449900"
      ],
      "text/latex": [
       "41449900"
      ],
      "text/markdown": [
       "41449900"
      ],
      "text/plain": [
       "[1] 41449900"
      ]
     },
     "metadata": {},
     "output_type": "display_data"
    }
   ],
   "source": [
    "10000*(1+4143.99)"
   ]
  },
  {
   "cell_type": "markdown",
   "metadata": {},
   "source": [
    "#Q2.E.\n",
    "Berkshire Hathway has had significantly larger growth than Market over the time priod.\n",
    "(I can see the 100% higher return than market from graph)"
   ]
  },
  {
   "cell_type": "code",
   "execution_count": 11,
   "metadata": {},
   "outputs": [
    {
     "data": {
      "image/png": "[encoded data removed]",
      "text/plain": [
       "plot without title"
      ]
     },
     "metadata": {},
     "output_type": "display_data"
    }
   ],
   "source": [
    "ts.data=ts(cumsum(Berkshire$BrkRet), start=c(1976,11), freq=12)\n",
    "ts.data.1=ts(cumsum(Berkshire$MKT), start=c(1976,11), freq=12)\n",
    "\n",
    "plot(ts.data, ylab=\"Return\" , xlab=\"Time\")\n",
    "points(ts.data.1, col='red')\n",
    "legend(x=1990, y=10, legend=c(\"BrkRet\", \"Market\"), col=c(\"black\", \"red\"), lty=1:2, cex=1)"
   ]
  },
  {
   "cell_type": "markdown",
   "metadata": {},
   "source": [
    "#Q2.F. \n",
    "Share ratio using the sd method is 0.23. VaR Sharpe is 0.21 and ES Sharpe is 0.17"
   ]
  },
  {
   "cell_type": "code",
   "execution_count": 172,
   "metadata": {},
   "outputs": [
    {
     "data": {
      "text/html": [
       "<table>\n",
       "<caption>A data.frame: 5 × 4</caption>\n",
       "<thead>\n",
       "\t<tr><th></th><th scope=col>Date</th><th scope=col>BrkRet</th><th scope=col>MKT</th><th scope=col>RF</th></tr>\n",
       "\t<tr><th></th><th scope=col>&lt;date&gt;</th><th scope=col>&lt;dbl&gt;</th><th scope=col>&lt;dbl&gt;</th><th scope=col>&lt;dbl&gt;</th></tr>\n",
       "</thead>\n",
       "<tbody>\n",
       "\t<tr><th scope=row>1</th><td>1976-11-30</td><td>0.1544</td><td> 0.0076</td><td>0.0040</td></tr>\n",
       "\t<tr><th scope=row>2</th><td>1976-12-31</td><td>0.1465</td><td> 0.0605</td><td>0.0040</td></tr>\n",
       "\t<tr><th scope=row>3</th><td>1977-01-31</td><td>0.0000</td><td>-0.0369</td><td>0.0036</td></tr>\n",
       "\t<tr><th scope=row>4</th><td>1977-02-28</td><td>0.0000</td><td>-0.0160</td><td>0.0035</td></tr>\n",
       "\t<tr><th scope=row>5</th><td>1977-03-31</td><td>0.0778</td><td>-0.0099</td><td>0.0038</td></tr>\n",
       "</tbody>\n",
       "</table>\n"
      ],
      "text/latex": [
       "A data.frame: 5 × 4\n",
       "\\begin{tabular}{r|llll}\n",
       "  & Date & BrkRet & MKT & RF\\\\\n",
       "  & <date> & <dbl> & <dbl> & <dbl>\\\\\n",
       "\\hline\n",
       "\t1 & 1976-11-30 & 0.1544 &  0.0076 & 0.0040\\\\\n",
       "\t2 & 1976-12-31 & 0.1465 &  0.0605 & 0.0040\\\\\n",
       "\t3 & 1977-01-31 & 0.0000 & -0.0369 & 0.0036\\\\\n",
       "\t4 & 1977-02-28 & 0.0000 & -0.0160 & 0.0035\\\\\n",
       "\t5 & 1977-03-31 & 0.0778 & -0.0099 & 0.0038\\\\\n",
       "\\end{tabular}\n"
      ],
      "text/markdown": [
       "\n",
       "A data.frame: 5 × 4\n",
       "\n",
       "| <!--/--> | Date &lt;date&gt; | BrkRet &lt;dbl&gt; | MKT &lt;dbl&gt; | RF &lt;dbl&gt; |\n",
       "|---|---|---|---|---|\n",
       "| 1 | 1976-11-30 | 0.1544 |  0.0076 | 0.0040 |\n",
       "| 2 | 1976-12-31 | 0.1465 |  0.0605 | 0.0040 |\n",
       "| 3 | 1977-01-31 | 0.0000 | -0.0369 | 0.0036 |\n",
       "| 4 | 1977-02-28 | 0.0000 | -0.0160 | 0.0035 |\n",
       "| 5 | 1977-03-31 | 0.0778 | -0.0099 | 0.0038 |\n",
       "\n"
      ],
      "text/plain": [
       "  Date       BrkRet MKT     RF    \n",
       "1 1976-11-30 0.1544  0.0076 0.0040\n",
       "2 1976-12-31 0.1465  0.0605 0.0040\n",
       "3 1977-01-31 0.0000 -0.0369 0.0036\n",
       "4 1977-02-28 0.0000 -0.0160 0.0035\n",
       "5 1977-03-31 0.0778 -0.0099 0.0038"
      ]
     },
     "metadata": {},
     "output_type": "display_data"
    }
   ],
   "source": [
    "Berkshire$Date <- mdy(Berkshire$Date)\n",
    "head(Berkshire, n=5)\n",
    "\n",
    "\n",
    "All.dat <- xts(Berkshire[,-1],order.by = Berkshire[,1])"
   ]
  },
  {
   "cell_type": "code",
   "execution_count": 197,
   "metadata": {},
   "outputs": [
    {
     "data": {
      "text/html": [
       "<table>\n",
       "<caption>A matrix: 3 × 1 of type dbl</caption>\n",
       "<thead>\n",
       "\t<tr><th></th><th scope=col>BrkRet</th></tr>\n",
       "</thead>\n",
       "<tbody>\n",
       "\t<tr><th scope=row>StdDev Sharpe (Rf=0.4%, p=95%):</th><td>0.23</td></tr>\n",
       "\t<tr><th scope=row>VaR Sharpe (Rf=0.4%, p=95%):</th><td>0.21</td></tr>\n",
       "\t<tr><th scope=row>ES Sharpe (Rf=0.4%, p=95%):</th><td>0.17</td></tr>\n",
       "</tbody>\n",
       "</table>\n"
      ],
      "text/latex": [
       "A matrix: 3 × 1 of type dbl\n",
       "\\begin{tabular}{r|l}\n",
       "  & BrkRet\\\\\n",
       "\\hline\n",
       "\tStdDev Sharpe (Rf=0.4\\%, p=95\\%): & 0.23\\\\\n",
       "\tVaR Sharpe (Rf=0.4\\%, p=95\\%): & 0.21\\\\\n",
       "\tES Sharpe (Rf=0.4\\%, p=95\\%): & 0.17\\\\\n",
       "\\end{tabular}\n"
      ],
      "text/markdown": [
       "\n",
       "A matrix: 3 × 1 of type dbl\n",
       "\n",
       "| <!--/--> | BrkRet |\n",
       "|---|---|\n",
       "| StdDev Sharpe (Rf=0.4%, p=95%): | 0.23 |\n",
       "| VaR Sharpe (Rf=0.4%, p=95%): | 0.21 |\n",
       "| ES Sharpe (Rf=0.4%, p=95%): | 0.17 |\n",
       "\n"
      ],
      "text/plain": [
       "                                BrkRet\n",
       "StdDev Sharpe (Rf=0.4%, p=95%): 0.23  \n",
       "VaR Sharpe (Rf=0.4%, p=95%):    0.21  \n",
       "ES Sharpe (Rf=0.4%, p=95%):     0.17  "
      ]
     },
     "metadata": {},
     "output_type": "display_data"
    }
   ],
   "source": [
    "Sharpe.ratio.B=round(SharpeRatio(All.dat$BrkRet,All.dat$RF), digits=2)\n",
    "Sharpe.ratio.B"
   ]
  },
  {
   "cell_type": "markdown",
   "metadata": {},
   "source": [
    "#Q2.G. \n",
    "The Sharpe ratio for Market is 0.15, 0.09 and 0.06 using sd, VaR and ES methods. \n",
    "The ratio of Sharpe for Berkshire and Market shows that Berkshire is 1.53, 2.33 and 2.83 times higher Sharpe ratio than market using different methods. It means Bershire has had 1.53 times higher reward per unit of risk compared to market (using sd method)."
   ]
  },
  {
   "cell_type": "code",
   "execution_count": 198,
   "metadata": {},
   "outputs": [
    {
     "data": {
      "text/html": [
       "<table>\n",
       "<caption>A matrix: 3 × 1 of type dbl</caption>\n",
       "<thead>\n",
       "\t<tr><th></th><th scope=col>MKT</th></tr>\n",
       "</thead>\n",
       "<tbody>\n",
       "\t<tr><th scope=row>StdDev Sharpe (Rf=0.4%, p=95%):</th><td>0.15</td></tr>\n",
       "\t<tr><th scope=row>VaR Sharpe (Rf=0.4%, p=95%):</th><td>0.09</td></tr>\n",
       "\t<tr><th scope=row>ES Sharpe (Rf=0.4%, p=95%):</th><td>0.06</td></tr>\n",
       "</tbody>\n",
       "</table>\n"
      ],
      "text/latex": [
       "A matrix: 3 × 1 of type dbl\n",
       "\\begin{tabular}{r|l}\n",
       "  & MKT\\\\\n",
       "\\hline\n",
       "\tStdDev Sharpe (Rf=0.4\\%, p=95\\%): & 0.15\\\\\n",
       "\tVaR Sharpe (Rf=0.4\\%, p=95\\%): & 0.09\\\\\n",
       "\tES Sharpe (Rf=0.4\\%, p=95\\%): & 0.06\\\\\n",
       "\\end{tabular}\n"
      ],
      "text/markdown": [
       "\n",
       "A matrix: 3 × 1 of type dbl\n",
       "\n",
       "| <!--/--> | MKT |\n",
       "|---|---|\n",
       "| StdDev Sharpe (Rf=0.4%, p=95%): | 0.15 |\n",
       "| VaR Sharpe (Rf=0.4%, p=95%): | 0.09 |\n",
       "| ES Sharpe (Rf=0.4%, p=95%): | 0.06 |\n",
       "\n"
      ],
      "text/plain": [
       "                                MKT \n",
       "StdDev Sharpe (Rf=0.4%, p=95%): 0.15\n",
       "VaR Sharpe (Rf=0.4%, p=95%):    0.09\n",
       "ES Sharpe (Rf=0.4%, p=95%):     0.06"
      ]
     },
     "metadata": {},
     "output_type": "display_data"
    },
    {
     "data": {
      "text/html": [
       "<table>\n",
       "<caption>A matrix: 3 × 1 of type dbl</caption>\n",
       "<thead>\n",
       "\t<tr><th></th><th scope=col>BrkRet</th></tr>\n",
       "</thead>\n",
       "<tbody>\n",
       "\t<tr><th scope=row>StdDev Sharpe (Rf=0.4%, p=95%):</th><td>1.53</td></tr>\n",
       "\t<tr><th scope=row>VaR Sharpe (Rf=0.4%, p=95%):</th><td>2.33</td></tr>\n",
       "\t<tr><th scope=row>ES Sharpe (Rf=0.4%, p=95%):</th><td>2.83</td></tr>\n",
       "</tbody>\n",
       "</table>\n"
      ],
      "text/latex": [
       "A matrix: 3 × 1 of type dbl\n",
       "\\begin{tabular}{r|l}\n",
       "  & BrkRet\\\\\n",
       "\\hline\n",
       "\tStdDev Sharpe (Rf=0.4\\%, p=95\\%): & 1.53\\\\\n",
       "\tVaR Sharpe (Rf=0.4\\%, p=95\\%): & 2.33\\\\\n",
       "\tES Sharpe (Rf=0.4\\%, p=95\\%): & 2.83\\\\\n",
       "\\end{tabular}\n"
      ],
      "text/markdown": [
       "\n",
       "A matrix: 3 × 1 of type dbl\n",
       "\n",
       "| <!--/--> | BrkRet |\n",
       "|---|---|\n",
       "| StdDev Sharpe (Rf=0.4%, p=95%): | 1.53 |\n",
       "| VaR Sharpe (Rf=0.4%, p=95%): | 2.33 |\n",
       "| ES Sharpe (Rf=0.4%, p=95%): | 2.83 |\n",
       "\n"
      ],
      "text/plain": [
       "                                BrkRet\n",
       "StdDev Sharpe (Rf=0.4%, p=95%): 1.53  \n",
       "VaR Sharpe (Rf=0.4%, p=95%):    2.33  \n",
       "ES Sharpe (Rf=0.4%, p=95%):     2.83  "
      ]
     },
     "metadata": {},
     "output_type": "display_data"
    }
   ],
   "source": [
    "Sharpe.ratio.M=round(SharpeRatio(All.dat$MKT,All.dat$RF), digits=2)\n",
    "Sharpe.ratio.M\n",
    "\n",
    "round(Sharpe.ratio.B/Sharpe.ratio.M, digits=2)"
   ]
  },
  {
   "cell_type": "markdown",
   "metadata": {},
   "source": [
    "#Q2.H. \n",
    "beta is 0.69"
   ]
  },
  {
   "cell_type": "code",
   "execution_count": 177,
   "metadata": {},
   "outputs": [
    {
     "data": {
      "text/plain": [
       "\n",
       "Call:\n",
       "lm(formula = Berkshire$BrkRet ~ Berkshire$MKT, data = Berkshire)\n",
       "\n",
       "Residuals:\n",
       "     Min       1Q   Median       3Q      Max \n",
       "-0.17261 -0.03500 -0.00694  0.02680  0.33180 \n",
       "\n",
       "Coefficients:\n",
       "              Estimate Std. Error t value Pr(>|t|)    \n",
       "(Intercept)   0.011891   0.002771   4.291 2.13e-05 ***\n",
       "Berkshire$MKT 0.698521   0.061983  11.270  < 2e-16 ***\n",
       "---\n",
       "Signif. codes:  0 '***' 0.001 '**' 0.01 '*' 0.05 '.' 0.1 ' ' 1\n",
       "\n",
       "Residual standard error: 0.06034 on 498 degrees of freedom\n",
       "Multiple R-squared:  0.2032,\tAdjusted R-squared:  0.2016 \n",
       "F-statistic:   127 on 1 and 498 DF,  p-value: < 2.2e-16\n"
      ]
     },
     "metadata": {},
     "output_type": "display_data"
    }
   ],
   "source": [
    "model.beta=lm(Berkshire$BrkRet~Berkshire$MKT, data=Berkshire)\n",
    "summary(model.beta)"
   ]
  },
  {
   "cell_type": "markdown",
   "metadata": {},
   "source": [
    "#Q2.I. \n",
    "The intercept (alhpa) is 0.011 and statistically is significant. It means fund has been outperforming market by 1.08% per month.\n",
    "The coeffcient (beta) is 0.69 and adjusted R squared is 0.20 which shows the fund is not very well explained by overal market behaviour and only about 20% of the fund behaviour is explained by the rest of market."
   ]
  },
  {
   "cell_type": "code",
   "execution_count": 178,
   "metadata": {},
   "outputs": [
    {
     "data": {
      "text/plain": [
       "\n",
       "Call:\n",
       "lm(formula = BrkRetex ~ MKTex)\n",
       "\n",
       "Residuals:\n",
       "     Min       1Q   Median       3Q      Max \n",
       "-0.17263 -0.03475 -0.00688  0.02608  0.33062 \n",
       "\n",
       "Coefficients:\n",
       "            Estimate Std. Error t value Pr(>|t|)    \n",
       "(Intercept) 0.010829   0.002724   3.976 8.05e-05 ***\n",
       "MKTex       0.689755   0.061777  11.165  < 2e-16 ***\n",
       "---\n",
       "Signif. codes:  0 '***' 0.001 '**' 0.01 '*' 0.05 '.' 0.1 ' ' 1\n",
       "\n",
       "Residual standard error: 0.06025 on 498 degrees of freedom\n",
       "Multiple R-squared:  0.2002,\tAdjusted R-squared:  0.1986 \n",
       "F-statistic: 124.7 on 1 and 498 DF,  p-value: < 2.2e-16\n"
      ]
     },
     "metadata": {},
     "output_type": "display_data"
    }
   ],
   "source": [
    "MKTex=Berkshire$MKT-Berkshire$RF\n",
    "BrkRetex=Berkshire$BrkRet-Berkshire$RF\n",
    "\n",
    "model.jensen=lm(BrkRetex~MKTex)\n",
    "summary(model.jensen)"
   ]
  }
 ],
 "metadata": {
  "kernelspec": {
   "display_name": "R",
   "language": "R",
   "name": "ir"
  },
  "language_info": {
   "codemirror_mode": "r",
   "file_extension": ".r",
   "mimetype": "text/x-r-source",
   "name": "R",
   "pygments_lexer": "r",
   "version": "3.6.1"
  }
 },
 "nbformat": 4,
 "nbformat_minor": 2
}
