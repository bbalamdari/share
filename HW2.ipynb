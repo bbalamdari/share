{
 "cells": [
  {
   "cell_type": "code",
   "execution_count": 18,
   "metadata": {},
   "outputs": [
    {
     "name": "stderr",
     "output_type": "stream",
     "text": [
      "Installing package into 'C:/Users/bbalamdari/Documents/R/win-library/3.6'\n",
      "(as 'lib' is unspecified)\n",
      "Warning message:\n",
      "\"package 'nbconvertR' is in use and will not be installed\""
     ]
    }
   ],
   "source": [
    "library(TSA)\n",
    "library(mgcv)\n",
    "install.packages(\"nbconvertR\")\n",
    "library(nbconvertR)"
   ]
  },
  {
   "cell_type": "code",
   "execution_count": 19,
   "metadata": {},
   "outputs": [
    {
     "data": {
      "image/png": "[encoded data removed]",
      "text/plain": [
       "Plot with title \"Raw data\""
      ]
     },
     "metadata": {},
     "output_type": "display_data"
    }
   ],
   "source": [
    "data=read.csv(\"chart_monthly.csv\", header=TRUE)\n",
    "\n",
    "data=data[,2]\n",
    "chart = ts(data,start=c(1965,1),freq=12)\n",
    "par(mfrow=c(2,2))\n",
    "ts.plot(chart, ylab=\"# of songs\")\n",
    "avg=mean(chart)\n",
    "abline(avg, 0, col=\"red\")\n",
    "acf(chart,lag.max=12*30,main=\"Raw data\")"
   ]
  },
  {
   "cell_type": "code",
   "execution_count": 20,
   "metadata": {},
   "outputs": [
    {
     "data": {
      "image/png": "[encoded data removed]",
      "text/plain": [
       "Plot with title \"Raw data\""
      ]
     },
     "metadata": {},
     "output_type": "display_data"
    }
   ],
   "source": [
    "chart.dif = diff(chart)\n",
    "chart.dif.ts = ts(chart.dif,start=c(1965,2),freq=12)\n",
    "par(mfrow=c(2,2))\n",
    "ts.plot(chart.dif.ts, ylab=\"# of songs diff\", main=\"Diff data\")\n",
    "avg.dif=mean(chart.dif.ts)\n",
    "abline(avg.dif, 0, col=\"red\")\n",
    "acf(chart.dif.ts,lag.max=12*10,main=\"Raw data\")\n"
   ]
  },
  {
   "cell_type": "code",
   "execution_count": 21,
   "metadata": {},
   "outputs": [
    {
     "name": "stdout",
     "output_type": "stream",
     "text": [
      "[1] \"0 0 0 4089.36281937988\"\n",
      "[1] \"0 0 1 4017.33723577697\"\n",
      "[1] \"0 0 2 3960.04080339342\"\n",
      "[1] \"0 0 3 3895.86480112833\"\n",
      "[1] \"0 1 0 4171.28191077876\"\n",
      "[1] \"0 1 1 3668.82010032562\"\n",
      "[1] \"0 1 2 3646.28341178167\"\n",
      "[1] \"0 1 3 3648.24830092855\"\n",
      "[1] \"1 0 0 3962.54137338297\"\n",
      "[1] \"1 0 1 3678.85678368866\"\n"
     ]
    },
    {
     "name": "stderr",
     "output_type": "stream",
     "text": [
      "Warning message in stats::arima(x = x, order = order, seasonal = seasonal, xreg = xreg, :\n",
      "\"possible convergence problem: optim gave code = 1\""
     ]
    },
    {
     "name": "stdout",
     "output_type": "stream",
     "text": [
      "[1] \"1 0 2 3656.16105587233\"\n",
      "[1] \"1 0 3 3658.19956394166\"\n",
      "[1] \"1 1 0 3915.57181841383\"\n",
      "[1] \"1 1 1 3648.18845579501\"\n",
      "[1] \"1 1 2 3648.26076371727\"\n",
      "[1] \"1 1 3 3649.38001130163\"\n",
      "[1] \"2 0 0 3852.30039469936\"\n",
      "[1] \"2 0 1 3658.06348316064\"\n"
     ]
    },
    {
     "name": "stderr",
     "output_type": "stream",
     "text": [
      "Warning message in log(s2):\n",
      "\"NaNs produced\""
     ]
    },
    {
     "name": "stdout",
     "output_type": "stream",
     "text": [
      "[1] \"2 0 2 3658.0713266255\"\n"
     ]
    },
    {
     "name": "stderr",
     "output_type": "stream",
     "text": [
      "Warning message in stats::arima(x = x, order = order, seasonal = seasonal, xreg = xreg, :\n",
      "\"possible convergence problem: optim gave code = 1\""
     ]
    },
    {
     "name": "stdout",
     "output_type": "stream",
     "text": [
      "[1] \"2 0 3 3659.30944121689\"\n",
      "[1] \"2 1 0 3782.35816510705\"\n",
      "[1] \"2 1 1 3647.23653552014\"\n",
      "[1] \"2 1 2 3648.00232876075\"\n",
      "[1] \"2 1 3 3648.57211068919\"\n",
      "[1] \"3 0 0 3762.32278184094\"\n",
      "[1] \"3 0 1 3657.06181558337\"\n"
     ]
    },
    {
     "name": "stderr",
     "output_type": "stream",
     "text": [
      "Warning message in stats::arima(x = x, order = order, seasonal = seasonal, xreg = xreg, :\n",
      "\"possible convergence problem: optim gave code = 1\""
     ]
    },
    {
     "name": "stdout",
     "output_type": "stream",
     "text": [
      "[1] \"3 0 2 3657.83219096701\"\n"
     ]
    },
    {
     "name": "stderr",
     "output_type": "stream",
     "text": [
      "Warning message in stats::arima(x = x, order = order, seasonal = seasonal, xreg = xreg, :\n",
      "\"possible convergence problem: optim gave code = 1\""
     ]
    },
    {
     "name": "stdout",
     "output_type": "stream",
     "text": [
      "[1] \"3 0 3 3636.73704152299\"\n",
      "[1] \"3 1 0 3745.46604670527\"\n",
      "[1] \"3 1 1 3647.68656207913\"\n",
      "[1] \"3 1 2 3649.53918106813\"\n"
     ]
    },
    {
     "name": "stderr",
     "output_type": "stream",
     "text": [
      "Warning message in stats::arima(x = x, order = order, seasonal = seasonal, xreg = xreg, :\n",
      "\"possible convergence problem: optim gave code = 1\""
     ]
    },
    {
     "name": "stdout",
     "output_type": "stream",
     "text": [
      "[1] \"3 1 3 3612.68797033985\"\n"
     ]
    },
    {
     "data": {
      "text/html": [
       "<table>\n",
       "<thead><tr><th></th><th scope=col>p</th><th scope=col>d</th><th scope=col>q</th><th scope=col>AIC</th></tr></thead>\n",
       "<tbody>\n",
       "\t<tr><th scope=row>24</th><td>2       </td><td>1       </td><td>2       </td><td>3648.002</td></tr>\n",
       "\t<tr><th scope=row>31</th><td>3       </td><td>1       </td><td>1       </td><td>3647.687</td></tr>\n",
       "\t<tr><th scope=row>23</th><td>2       </td><td>1       </td><td>1       </td><td>3647.237</td></tr>\n",
       "\t<tr><th scope=row>8</th><td>0       </td><td>1       </td><td>2       </td><td>3646.283</td></tr>\n",
       "\t<tr><th scope=row>29</th><td>3       </td><td>0       </td><td>3       </td><td>3636.737</td></tr>\n",
       "\t<tr><th scope=row>33</th><td>3       </td><td>1       </td><td>3       </td><td>3612.688</td></tr>\n",
       "</tbody>\n",
       "</table>\n"
      ],
      "text/latex": [
       "\\begin{tabular}{r|llll}\n",
       "  & p & d & q & AIC\\\\\n",
       "\\hline\n",
       "\t24 & 2        & 1        & 2        & 3648.002\\\\\n",
       "\t31 & 3        & 1        & 1        & 3647.687\\\\\n",
       "\t23 & 2        & 1        & 1        & 3647.237\\\\\n",
       "\t8 & 0        & 1        & 2        & 3646.283\\\\\n",
       "\t29 & 3        & 0        & 3        & 3636.737\\\\\n",
       "\t33 & 3        & 1        & 3        & 3612.688\\\\\n",
       "\\end{tabular}\n"
      ],
      "text/markdown": [
       "\n",
       "| <!--/--> | p | d | q | AIC |\n",
       "|---|---|---|---|---|\n",
       "| 24 | 2        | 1        | 2        | 3648.002 |\n",
       "| 31 | 3        | 1        | 1        | 3647.687 |\n",
       "| 23 | 2        | 1        | 1        | 3647.237 |\n",
       "| 8 | 0        | 1        | 2        | 3646.283 |\n",
       "| 29 | 3        | 0        | 3        | 3636.737 |\n",
       "| 33 | 3        | 1        | 3        | 3612.688 |\n",
       "\n"
      ],
      "text/plain": [
       "   p d q AIC     \n",
       "24 2 1 2 3648.002\n",
       "31 3 1 1 3647.687\n",
       "23 2 1 1 3647.237\n",
       "8  0 1 2 3646.283\n",
       "29 3 0 3 3636.737\n",
       "33 3 1 3 3612.688"
      ]
     },
     "metadata": {},
     "output_type": "display_data"
    },
    {
     "data": {
      "image/png": "[encoded data removed]",
      "text/plain": [
       "Plot with title \"PACF Difference # of songs\""
      ]
     },
     "metadata": {},
     "output_type": "display_data"
    }
   ],
   "source": [
    "par(mfrow=c(2,2))\n",
    "acf(chart.dif, lag.max=12*10, main=\"ACF Difference # of songs\")\n",
    "pacf(chart.dif, lag.max=12*10, main=\"PACF Difference # of songs\")\n",
    "\n",
    "\n",
    "test_modelA <- function(p,d,q){\n",
    "  model = arima(chart, order=c(p,d,q), method=\"ML\")\n",
    "  current.aic = AIC(model)\n",
    "  df = data.frame(p,d,q,current.aic)\n",
    "  names(df) <- c(\"p\",\"d\",\"q\",\"AIC\")\n",
    "  print(paste(p,d,q,current.aic,sep=\" \"))\n",
    "  return(df)\n",
    "}\n",
    "\n",
    "orders = data.frame(Inf,Inf,Inf,Inf)\n",
    "names(orders) <- c(\"p\",\"d\",\"q\",\"AIC\")\n",
    "\n",
    "\n",
    "for (p in 0:3){\n",
    "  for (d in 0:1){\n",
    "    for (q in 0:3) {\n",
    "      possibleError <- tryCatch(\n",
    "        orders<-rbind(orders,test_modelA(p,d,q)),\n",
    "        error=function(e) e\n",
    "      )\n",
    "      if(inherits(possibleError, \"error\")) next\n",
    "      \n",
    "    }\n",
    "  }\n",
    "}\n",
    "orders <- orders[order(-orders$AIC),]\n",
    "tail(orders)\n"
   ]
  },
  {
   "cell_type": "code",
   "execution_count": 22,
   "metadata": {},
   "outputs": [
    {
     "name": "stderr",
     "output_type": "stream",
     "text": [
      "Warning message in stats::arima(x = x, order = order, seasonal = seasonal, xreg = xreg, :\n",
      "\"possible convergence problem: optim gave code = 1\""
     ]
    },
    {
     "data": {
      "text/plain": [
       "\n",
       "\tBox-Ljung test\n",
       "\n",
       "data:  resid(arima_model)\n",
       "X-squared = 1.6375, df = 1, p-value = 0.2007\n"
      ]
     },
     "metadata": {},
     "output_type": "display_data"
    },
    {
     "data": {
      "text/plain": [
       "\n",
       "\tBox-Pierce test\n",
       "\n",
       "data:  resid(arima_model)\n",
       "X-squared = 1.623, df = 1, p-value = 0.2027\n"
      ]
     },
     "metadata": {},
     "output_type": "display_data"
    },
    {
     "data": {
      "image/png": "[encoded data removed]",
      "text/plain": [
       "Plot with title \"PACF Residuals\""
      ]
     },
     "metadata": {},
     "output_type": "display_data"
    }
   ],
   "source": [
    "arima_model = arima(chart, order = c(3,1,3), method = \"ML\")\n",
    "\n",
    "par(mfrow=c(2,2))\n",
    "acf(resid(arima_model),lag.max=12*3, main=\"ACF Residuals\")\n",
    "pacf(resid(arima_model),lag.max=12*3, main=\"PACF Residuals\")\n",
    "\n",
    "#Sum(order) lags and sum(order)-1 df\n",
    "Box.test(resid(arima_model), lag = 7, type = \"Ljung-Box\", fitdf = 6)\n",
    "Box.test(resid(arima_model), lag = 7, type = \"Box-Pierce\", fitdf = 6)"
   ]
  },
  {
   "cell_type": "code",
   "execution_count": 23,
   "metadata": {},
   "outputs": [
    {
     "name": "stderr",
     "output_type": "stream",
     "text": [
      "Warning message in stats::arima(x = x, order = order, seasonal = seasonal, xreg = xreg, :\n",
      "\"possible convergence problem: optim gave code = 1\""
     ]
    },
    {
     "data": {
      "image/png": "[encoded data removed]",
      "text/plain": [
       "Plot with title \"Normal Q-Q Plot\""
      ]
     },
     "metadata": {},
     "output_type": "display_data"
    }
   ],
   "source": [
    "final_model = arima(chart, order = c(3,1,3), method = \"ML\")\n",
    "par(mfrow=c(2,2))\n",
    "plot(resid(final_model), ylab='Residuals',type='o',main=\"Residual Plot\")\n",
    "abline(h=0)\n",
    "acf(resid(final_model),main=\"ACF: Residuals\")\n",
    "hist(resid(final_model),xlab='Residuals',main='Histogram: Residuals')\n",
    "qqnorm(resid(final_model),ylab=\"Sample Q\",xlab=\"Theoretical Q\")\n",
    "qqline(resid(final_model))"
   ]
  },
  {
   "cell_type": "code",
   "execution_count": 24,
   "metadata": {},
   "outputs": [
    {
     "data": {
      "text/plain": [
       "\n",
       "Call:\n",
       "arima(x = chart, order = c(2, 1, 4), method = \"ML\")\n",
       "\n",
       "Coefficients:\n",
       "          ar1      ar2     ma1      ma2      ma3     ma4\n",
       "      -1.1589  -0.9993  0.0912  -0.0963  -0.8896  0.1598\n",
       "s.e.   0.0017   0.0011  0.0397   0.0186   0.0187  0.0387\n",
       "\n",
       "sigma^2 estimated as 15.05:  log likelihood = -1799.39,  aic = 3610.78"
      ]
     },
     "metadata": {},
     "output_type": "display_data"
    },
    {
     "data": {
      "text/html": [
       "1.21719680600809"
      ],
      "text/latex": [
       "1.21719680600809"
      ],
      "text/markdown": [
       "1.21719680600809"
      ],
      "text/plain": [
       "[1] 1.217197"
      ]
     },
     "metadata": {},
     "output_type": "display_data"
    },
    {
     "data": {
      "text/html": [
       "6.16502296298977"
      ],
      "text/latex": [
       "6.16502296298977"
      ],
      "text/markdown": [
       "6.16502296298977"
      ],
      "text/plain": [
       "[1] 6.165023"
      ]
     },
     "metadata": {},
     "output_type": "display_data"
    },
    {
     "data": {
      "text/html": [
       "49.2766225349615"
      ],
      "text/latex": [
       "49.2766225349615"
      ],
      "text/markdown": [
       "49.2766225349615"
      ],
      "text/plain": [
       "[1] 49.27662"
      ]
     },
     "metadata": {},
     "output_type": "display_data"
    },
    {
     "data": {
      "image/png": "[encoded data removed]",
      "text/plain": [
       "Plot with title \"\""
      ]
     },
     "metadata": {},
     "output_type": "display_data"
    }
   ],
   "source": [
    "par(mfrow=c(1,1))\n",
    "arima.model = arima(chart, order = c(2,1,4),method = \"ML\")\n",
    "arima.model\n",
    "\n",
    "time = time(chart)\n",
    "n = length(chart)\n",
    "nfit = n - 6\n",
    "\n",
    "chart.train = arima(chart[1:nfit], order = c(2,1,4),method = \"ML\")\n",
    "arima.pred = as.vector(predict(chart.train,n.ahead=6))\n",
    "date=time(chart)\n",
    "ubound = arima.pred$pred+1.96*arima.pred$se\n",
    "lbound = arima.pred$pred-1.96*arima.pred$se\n",
    "ymin = min(lbound)\n",
    "ymax = max(ubound)\n",
    "\n",
    "plot(date[nfit:n],chart[nfit:n],type=\"l\", ylim=c(ymin,ymax), xlab=\"Date\", ylab = 'Charts', main=\"\")\n",
    "points(date[(nfit+1):n],arima.pred$pred,col=\"red\")\n",
    "lines(date[(nfit+1):n],ubound,lty=3,lwd= 2, col=\"blue\")\n",
    "lines(date[(nfit+1):n],lbound,lty=3,lwd= 2, col=\"blue\")\n",
    "\n",
    "predicts = arima.pred$pred\n",
    "obs = chart[(nfit+1):n]\n",
    "\n",
    "#Precision\n",
    "sum((predicts-obs)^2)/sum((obs-mean(obs))^2)\n",
    "\n",
    "#MAPE\n",
    "mean(abs(predicts-obs))\n",
    "\n",
    "#MAPM\n",
    "100*mean(abs(predicts-obs)/obs)\n",
    "\n"
   ]
  },
  {
   "cell_type": "code",
   "execution_count": 25,
   "metadata": {},
   "outputs": [],
   "source": [
    "#Q2\n",
    "library(TSA)\n",
    "library(mgcv)"
   ]
  },
  {
   "cell_type": "code",
   "execution_count": 26,
   "metadata": {},
   "outputs": [
    {
     "name": "stdout",
     "output_type": "stream",
     "text": [
      "[1] \"0 0 0 -569.420853737233\"\n",
      "[1] \"0 0 1 -917.96944823913\"\n",
      "[1] \"0 0 2 -1172.6587921307\"\n",
      "[1] \"0 0 3 -1355.38382999252\"\n",
      "[1] \"0 1 0 -1784.85289053596\"\n",
      "[1] \"0 1 1 -1788.70792253433\"\n",
      "[1] \"0 1 2 -1786.81923292415\"\n",
      "[1] \"0 1 3 -1786.2763563839\"\n",
      "[1] \"0 2 0 -1622.2281778826\"\n",
      "[1] \"0 2 1 -1774.06048060326\"\n",
      "[1] \"0 2 2 -1776.50757797604\"\n",
      "[1] \"0 2 3 -1774.92343242775\"\n",
      "[1] \"1 0 0 -1782.87765219633\"\n",
      "[1] \"1 0 1 -1786.9209325297\"\n",
      "[1] \"1 0 3 -1787.57530522108\"\n",
      "[1] \"1 1 0 -1788.22872834945\"\n",
      "[1] \"1 1 1 -1786.76302116555\"\n",
      "[1] \"1 1 2 -1784.94794222003\"\n",
      "[1] \"1 1 3 -1784.58680040639\"\n",
      "[1] \"1 2 0 -1669.12059628723\"\n",
      "[1] \"1 2 1 -1775.97062237718\"\n",
      "[1] \"1 2 2 -1774.67378361803\"\n",
      "[1] \"1 2 3 -1773.29602315847\"\n",
      "[1] \"2 0 0 -1786.46590074303\"\n",
      "[1] \"2 0 1 -1784.96352204584\"\n",
      "[1] \"2 0 2 -1777.91857859351\"\n",
      "[1] \"2 0 3 -1778.62799788012\"\n",
      "[1] \"2 1 0 -1787.2439073141\"\n",
      "[1] \"2 1 1 -1785.32555812172\"\n"
     ]
    },
    {
     "name": "stderr",
     "output_type": "stream",
     "text": [
      "Warning message in log(s2):\n",
      "\"NaNs produced\"Warning message in log(s2):\n",
      "\"NaNs produced\""
     ]
    },
    {
     "name": "stdout",
     "output_type": "stream",
     "text": [
      "[1] \"2 1 2 -1798.00812009217\"\n",
      "[1] \"2 1 3 -1796.10009655366\"\n",
      "[1] \"2 2 0 -1694.18164076294\"\n",
      "[1] \"2 2 1 -1775.66283349742\"\n",
      "[1] \"2 2 2 -1773.98221705146\"\n",
      "[1] \"2 2 3 -1786.40928836845\"\n",
      "[1] \"3 0 0 -1563.88834033217\"\n"
     ]
    },
    {
     "name": "stderr",
     "output_type": "stream",
     "text": [
      "Warning message in log(s2):\n",
      "\"NaNs produced\"Warning message in stats::arima(x = x, order = order, seasonal = seasonal, xreg = xreg, :\n",
      "\"possible convergence problem: optim gave code = 1\""
     ]
    },
    {
     "name": "stdout",
     "output_type": "stream",
     "text": [
      "[1] \"3 0 1 -1782.5750536717\"\n",
      "[1] \"3 0 2 -1787.5725787374\"\n",
      "[1] \"3 0 3 -1783.95581959344\"\n",
      "[1] \"3 1 0 -1785.65739143975\"\n",
      "[1] \"3 1 1 -1784.37651984035\"\n",
      "[1] \"3 1 2 -1796.09876463304\"\n",
      "[1] \"3 1 3 -1796.76093324888\"\n",
      "[1] \"3 2 0 -1727.84285689718\"\n",
      "[1] \"3 2 1 -1774.92023445478\"\n",
      "[1] \"3 2 2 -1773.53700767872\"\n",
      "[1] \"3 2 3 -1784.41245565282\"\n"
     ]
    },
    {
     "data": {
      "text/html": [
       "<table>\n",
       "<thead><tr><th></th><th scope=col>p</th><th scope=col>d</th><th scope=col>q</th><th scope=col>AIC</th></tr></thead>\n",
       "<tbody>\n",
       "\t<tr><th scope=row>17</th><td>1        </td><td>1        </td><td>0        </td><td>-1788.229</td></tr>\n",
       "\t<tr><th scope=row>7</th><td>0        </td><td>1        </td><td>1        </td><td>-1788.708</td></tr>\n",
       "\t<tr><th scope=row>43</th><td>3        </td><td>1        </td><td>2        </td><td>-1796.099</td></tr>\n",
       "\t<tr><th scope=row>32</th><td>2        </td><td>1        </td><td>3        </td><td>-1796.100</td></tr>\n",
       "\t<tr><th scope=row>44</th><td>3        </td><td>1        </td><td>3        </td><td>-1796.761</td></tr>\n",
       "\t<tr><th scope=row>31</th><td>2        </td><td>1        </td><td>2        </td><td>-1798.008</td></tr>\n",
       "</tbody>\n",
       "</table>\n"
      ],
      "text/latex": [
       "\\begin{tabular}{r|llll}\n",
       "  & p & d & q & AIC\\\\\n",
       "\\hline\n",
       "\t17 & 1         & 1         & 0         & -1788.229\\\\\n",
       "\t7 & 0         & 1         & 1         & -1788.708\\\\\n",
       "\t43 & 3         & 1         & 2         & -1796.099\\\\\n",
       "\t32 & 2         & 1         & 3         & -1796.100\\\\\n",
       "\t44 & 3         & 1         & 3         & -1796.761\\\\\n",
       "\t31 & 2         & 1         & 2         & -1798.008\\\\\n",
       "\\end{tabular}\n"
      ],
      "text/markdown": [
       "\n",
       "| <!--/--> | p | d | q | AIC |\n",
       "|---|---|---|---|---|\n",
       "| 17 | 1         | 1         | 0         | -1788.229 |\n",
       "| 7 | 0         | 1         | 1         | -1788.708 |\n",
       "| 43 | 3         | 1         | 2         | -1796.099 |\n",
       "| 32 | 2         | 1         | 3         | -1796.100 |\n",
       "| 44 | 3         | 1         | 3         | -1796.761 |\n",
       "| 31 | 2         | 1         | 2         | -1798.008 |\n",
       "\n"
      ],
      "text/plain": [
       "   p d q AIC      \n",
       "17 1 1 0 -1788.229\n",
       "7  0 1 1 -1788.708\n",
       "43 3 1 2 -1796.099\n",
       "32 2 1 3 -1796.100\n",
       "44 3 1 3 -1796.761\n",
       "31 2 1 2 -1798.008"
      ]
     },
     "metadata": {},
     "output_type": "display_data"
    },
    {
     "name": "stderr",
     "output_type": "stream",
     "text": [
      "Warning message in log(s2):\n",
      "\"NaNs produced\"Warning message in log(s2):\n",
      "\"NaNs produced\""
     ]
    },
    {
     "data": {
      "text/plain": [
       "\n",
       "\tBox-Ljung test\n",
       "\n",
       "data:  resid(EU.ARIMA)\n",
       "X-squared = 1.4511, df = 1, p-value = 0.2284\n"
      ]
     },
     "metadata": {},
     "output_type": "display_data"
    },
    {
     "data": {
      "text/plain": [
       "\n",
       "\tBox-Pierce test\n",
       "\n",
       "data:  resid(EU.ARIMA)\n",
       "X-squared = 1.4178, df = 1, p-value = 0.2338\n"
      ]
     },
     "metadata": {},
     "output_type": "display_data"
    },
    {
     "data": {
      "image/png": "[encoded data removed]",
      "text/plain": [
       "Plot with title \"Residuals EU\""
      ]
     },
     "metadata": {},
     "output_type": "display_data"
    }
   ],
   "source": [
    "data1=read.csv(\"USD to EU.csv\", header=TRUE)\n",
    "data2=read.csv(\"USD to GBP.csv\", header=TRUE)\n",
    "\n",
    "\n",
    "EU = ts(data1[,2],start=c(2014),freq=52)\n",
    "GBP = ts(data2[,2],start=c(2014),freq=52)\n",
    "\n",
    "\n",
    "#EU\n",
    "model.EU <- function(p,d,q){\n",
    "  model.EU = arima(EU, order=c(p,d,q), method=\"ML\")\n",
    "  current.aic = AIC(model.EU)\n",
    "  df = data.frame(p,d,q,current.aic)\n",
    "  names(df) <- c(\"p\",\"d\",\"q\",\"AIC\")\n",
    "  print(paste(p,d,q,current.aic,sep=\" \"))\n",
    "  return(df)\n",
    "}\n",
    "\n",
    "orders = data.frame(Inf,Inf,Inf,Inf)\n",
    "names(orders) <- c(\"p\",\"d\",\"q\",\"AIC\")\n",
    "\n",
    "\n",
    "for (p in 0:3){\n",
    "  for (d in 0:2){\n",
    "    for (q in 0:3) {\n",
    "      possibleError <- tryCatch(\n",
    "        orders<-rbind(orders,model.EU(p,d,q)),\n",
    "        error=function(e) e\n",
    "      )\n",
    "      if(inherits(possibleError, \"error\")) next\n",
    "      \n",
    "    }\n",
    "  }\n",
    "}\n",
    "orders <- orders[order(-orders$AIC),]\n",
    "tail(orders)\n",
    "\n",
    "EU.ARIMA= arima(EU, order = c(2,1,2), method = \"ML\")\n",
    "par(mfrow=c(2,2))\n",
    "acf(resid(EU.ARIMA),main=\"Residuals EU\")\n",
    "pacf(resid(EU.ARIMA),main=\"Residuals EU\")\n",
    "\n",
    "Box.test(resid(EU.ARIMA), lag = 5, type = \"Ljung-Box\", fitdf = 4)\n",
    "Box.test(resid(EU.ARIMA), lag = 5, type = \"Box-Pierce\", fitdf = 4)\n"
   ]
  },
  {
   "cell_type": "code",
   "execution_count": 27,
   "metadata": {},
   "outputs": [
    {
     "name": "stdout",
     "output_type": "stream",
     "text": [
      "[1] \"0 0 0 -294.663964544953\"\n",
      "[1] \"0 0 1 -658.997635234656\"\n",
      "[1] \"0 0 2 -939.93637221479\"\n",
      "[1] \"0 0 3 -1111.9437578204\"\n",
      "[1] \"0 1 0 -1619.85724248392\"\n",
      "[1] \"0 1 1 -1631.80095201227\"\n",
      "[1] \"0 1 2 -1631.01849313932\"\n",
      "[1] \"0 1 3 -1630.5328745831\"\n",
      "[1] \"0 2 0 -1476.94141423421\"\n",
      "[1] \"0 2 1 -1608.08134365204\"\n",
      "[1] \"0 2 2 -1619.63606514124\"\n",
      "[1] \"0 2 3 -1618.99324224149\"\n",
      "[1] \"1 0 0 -1616.91059171626\"\n",
      "[1] \"1 0 1 -1629.12875104219\"\n",
      "[1] \"1 0 2 -1628.21555956067\"\n"
     ]
    },
    {
     "name": "stderr",
     "output_type": "stream",
     "text": [
      "Warning message in stats::arima(x = x, order = order, seasonal = seasonal, xreg = xreg, :\n",
      "\"possible convergence problem: optim gave code = 1\""
     ]
    },
    {
     "name": "stdout",
     "output_type": "stream",
     "text": [
      "[1] \"1 0 3 -1625.63262136571\"\n",
      "[1] \"1 1 0 -1628.84298543242\"\n",
      "[1] \"1 1 1 -1630.53419488331\"\n",
      "[1] \"1 1 2 -1629.50656422264\"\n",
      "[1] \"1 1 3 -1630.33815100634\"\n",
      "[1] \"1 2 0 -1506.16260567687\"\n",
      "[1] \"1 2 1 -1616.66370172833\"\n",
      "[1] \"1 2 2 -1618.43209376104\"\n",
      "[1] \"1 2 3 -1617.61293638911\"\n",
      "[1] \"2 0 0 -1626.1834760353\"\n",
      "[1] \"2 0 1 -1627.79422177125\"\n",
      "[1] \"2 0 2 -1630.63355495433\"\n",
      "[1] \"2 0 3 -1627.18110711778\"\n",
      "[1] \"2 1 0 -1632.05834298463\"\n",
      "[1] \"2 1 1 -1630.10642870094\"\n",
      "[1] \"2 1 2 -1629.96320704008\"\n",
      "[1] \"2 1 3 -1628.65142267026\"\n",
      "[1] \"2 2 0 -1542.94155486753\"\n",
      "[1] \"2 2 1 -1620.15552258965\"\n",
      "[1] \"2 2 2 -1618.18511913838\"\n",
      "[1] \"2 2 3 -1617.95135954089\"\n",
      "[1] \"3 0 0 -1384.15973591385\"\n"
     ]
    },
    {
     "name": "stderr",
     "output_type": "stream",
     "text": [
      "Warning message in stats::arima(x = x, order = order, seasonal = seasonal, xreg = xreg, :\n",
      "\"possible convergence problem: optim gave code = 1\""
     ]
    },
    {
     "name": "stdout",
     "output_type": "stream",
     "text": [
      "[1] \"3 0 1 -1627.07281057153\"\n",
      "[1] \"3 0 3 -1627.16889030955\"\n",
      "[1] \"3 1 0 -1630.14796800234\"\n",
      "[1] \"3 1 1 -1628.22885259749\"\n",
      "[1] \"3 1 2 -1629.68453363093\"\n"
     ]
    },
    {
     "name": "stderr",
     "output_type": "stream",
     "text": [
      "Warning message in stats::arima(x = x, order = order, seasonal = seasonal, xreg = xreg, :\n",
      "\"possible convergence problem: optim gave code = 1\""
     ]
    },
    {
     "name": "stdout",
     "output_type": "stream",
     "text": [
      "[1] \"3 1 3 -1628.13912819276\"\n",
      "[1] \"3 2 0 -1565.58861773793\"\n",
      "[1] \"3 2 1 -1618.20782428416\"\n",
      "[1] \"3 2 2 -1616.78165255329\"\n",
      "[1] \"3 2 3 -1616.67402014137\"\n"
     ]
    },
    {
     "data": {
      "text/html": [
       "<table>\n",
       "<thead><tr><th></th><th scope=col>p</th><th scope=col>d</th><th scope=col>q</th><th scope=col>AIC</th></tr></thead>\n",
       "<tbody>\n",
       "\t<tr><th scope=row>9</th><td>0        </td><td>1        </td><td>3        </td><td>-1630.533</td></tr>\n",
       "\t<tr><th scope=row>19</th><td>1        </td><td>1        </td><td>1        </td><td>-1630.534</td></tr>\n",
       "\t<tr><th scope=row>28</th><td>2        </td><td>0        </td><td>2        </td><td>-1630.634</td></tr>\n",
       "\t<tr><th scope=row>8</th><td>0        </td><td>1        </td><td>2        </td><td>-1631.018</td></tr>\n",
       "\t<tr><th scope=row>7</th><td>0        </td><td>1        </td><td>1        </td><td>-1631.801</td></tr>\n",
       "\t<tr><th scope=row>30</th><td>2        </td><td>1        </td><td>0        </td><td>-1632.058</td></tr>\n",
       "</tbody>\n",
       "</table>\n"
      ],
      "text/latex": [
       "\\begin{tabular}{r|llll}\n",
       "  & p & d & q & AIC\\\\\n",
       "\\hline\n",
       "\t9 & 0         & 1         & 3         & -1630.533\\\\\n",
       "\t19 & 1         & 1         & 1         & -1630.534\\\\\n",
       "\t28 & 2         & 0         & 2         & -1630.634\\\\\n",
       "\t8 & 0         & 1         & 2         & -1631.018\\\\\n",
       "\t7 & 0         & 1         & 1         & -1631.801\\\\\n",
       "\t30 & 2         & 1         & 0         & -1632.058\\\\\n",
       "\\end{tabular}\n"
      ],
      "text/markdown": [
       "\n",
       "| <!--/--> | p | d | q | AIC |\n",
       "|---|---|---|---|---|\n",
       "| 9 | 0         | 1         | 3         | -1630.533 |\n",
       "| 19 | 1         | 1         | 1         | -1630.534 |\n",
       "| 28 | 2         | 0         | 2         | -1630.634 |\n",
       "| 8 | 0         | 1         | 2         | -1631.018 |\n",
       "| 7 | 0         | 1         | 1         | -1631.801 |\n",
       "| 30 | 2         | 1         | 0         | -1632.058 |\n",
       "\n"
      ],
      "text/plain": [
       "   p d q AIC      \n",
       "9  0 1 3 -1630.533\n",
       "19 1 1 1 -1630.534\n",
       "28 2 0 2 -1630.634\n",
       "8  0 1 2 -1631.018\n",
       "7  0 1 1 -1631.801\n",
       "30 2 1 0 -1632.058"
      ]
     },
     "metadata": {},
     "output_type": "display_data"
    },
    {
     "data": {
      "text/plain": [
       "\n",
       "\tBox-Ljung test\n",
       "\n",
       "data:  resid(GBP.ARIMA)\n",
       "X-squared = 0.06163, df = 1, p-value = 0.8039\n"
      ]
     },
     "metadata": {},
     "output_type": "display_data"
    },
    {
     "data": {
      "text/plain": [
       "\n",
       "\tBox-Pierce test\n",
       "\n",
       "data:  resid(GBP.ARIMA)\n",
       "X-squared = 0.060639, df = 1, p-value = 0.8055\n"
      ]
     },
     "metadata": {},
     "output_type": "display_data"
    },
    {
     "data": {
      "image/png": "[encoded data removed]",
      "text/plain": [
       "Plot with title \"Residuals GBP\""
      ]
     },
     "metadata": {},
     "output_type": "display_data"
    }
   ],
   "source": [
    "#GBP\n",
    "model.GBP <- function(p,d,q){\n",
    "  model.GBP = arima(GBP, order=c(p,d,q), method=\"ML\")\n",
    "  current.aic = AIC(model.GBP)\n",
    "  df = data.frame(p,d,q,current.aic)\n",
    "  names(df) <- c(\"p\",\"d\",\"q\",\"AIC\")\n",
    "  print(paste(p,d,q,current.aic,sep=\" \"))\n",
    "  return(df)\n",
    "}\n",
    "\n",
    "orders = data.frame(Inf,Inf,Inf,Inf)\n",
    "names(orders) <- c(\"p\",\"d\",\"q\",\"AIC\")\n",
    "\n",
    "\n",
    "for (p in 0:3){\n",
    "  for (d in 0:2){\n",
    "    for (q in 0:3) {\n",
    "      possibleError <- tryCatch(\n",
    "        orders<-rbind(orders,model.GBP(p,d,q)),\n",
    "        error=function(e) e\n",
    "      )\n",
    "      if(inherits(possibleError, \"error\")) next\n",
    "      \n",
    "    }\n",
    "  }\n",
    "}\n",
    "orders <- orders[order(-orders$AIC),]\n",
    "tail(orders)\n",
    "\n",
    "GBP.ARIMA= arima(GBP, order = c(2,1,0), method = \"ML\")\n",
    "par(mfrow=c(2,2))\n",
    "acf(resid(GBP.ARIMA),main=\"Residuals GBP\")\n",
    "pacf(resid(GBP.ARIMA),main=\"Residuals GBP\")\n",
    "\n",
    "Box.test(resid(GBP.ARIMA), lag = 3, type = \"Ljung-Box\", fitdf = 2)\n",
    "Box.test(resid(GBP.ARIMA), lag = 3, type = \"Box-Pierce\", fitdf = 2)"
   ]
  },
  {
   "cell_type": "code",
   "execution_count": 28,
   "metadata": {},
   "outputs": [
    {
     "data": {
      "text/plain": [
       "\n",
       "Call:\n",
       "arima(x = EU, order = c(2, 1, 2), method = \"ML\")\n",
       "\n",
       "Coefficients:\n",
       "          ar1      ar2     ma1     ma2\n",
       "      -0.4504  -0.8491  0.5958  0.9286\n",
       "s.e.   0.0798   0.0582  0.0614  0.0573\n",
       "\n",
       "sigma^2 estimated as 0.0001072:  log likelihood = 904,  aic = -1800.01"
      ]
     },
     "metadata": {},
     "output_type": "display_data"
    },
    {
     "data": {
      "text/plain": [
       "\n",
       "Call:\n",
       "arima(x = GBP, order = c(2, 1, 0), method = \"ML\")\n",
       "\n",
       "Coefficients:\n",
       "         ar1      ar2\n",
       "      0.2199  -0.1340\n",
       "s.e.  0.0585   0.0584\n",
       "\n",
       "sigma^2 estimated as 0.0001944:  log likelihood = 819.03,  aic = -1634.06"
      ]
     },
     "metadata": {},
     "output_type": "display_data"
    }
   ],
   "source": [
    "EU.ARIMA\n",
    "GBP.ARIMA"
   ]
  },
  {
   "cell_type": "code",
   "execution_count": 31,
   "metadata": {},
   "outputs": [
    {
     "data": {
      "text/html": [
       "0.00638001358684693"
      ],
      "text/latex": [
       "0.00638001358684693"
      ],
      "text/markdown": [
       "0.00638001358684693"
      ],
      "text/plain": [
       "[1] 0.006380014"
      ]
     },
     "metadata": {},
     "output_type": "display_data"
    },
    {
     "data": {
      "text/html": [
       "1.61630803108217"
      ],
      "text/latex": [
       "1.61630803108217"
      ],
      "text/markdown": [
       "1.61630803108217"
      ],
      "text/plain": [
       "[1] 1.616308"
      ]
     },
     "metadata": {},
     "output_type": "display_data"
    },
    {
     "data": {
      "image/png": "[encoded data removed]",
      "text/plain": [
       "Plot with title \"EU\""
      ]
     },
     "metadata": {},
     "output_type": "display_data"
    }
   ],
   "source": [
    "n = length(EU) \n",
    "nfit = n-12 \n",
    "porder=2 \n",
    "qorder=2 \n",
    "modfit = arima(EU[1:nfit], order = c(porder,1,qorder),method = \"ML\") \n",
    "modpred = predict(modfit,n.ahead=12) \n",
    " \n",
    "ubound = modpred$pred+1.96*modpred$se \n",
    "\n",
    "lbound = modpred$pred-1.96*modpred$se \n",
    "ymin = min(lbound) \n",
    "ymax = max(ubound) \n",
    "k=seq(nfit+1, n, 1) \n",
    "k1=seq(n-20, n, 1)\n",
    "par(mfrow=c(2,2))\n",
    "plot(k1, EU[(n-20):n], type=\"l\", ylim=c(ymin,ymax), xlab=\"Time\", ylab=\"# of s ongs\", main=\"EU\") \n",
    "points(k,modpred$pred,col=\"red\") \n",
    "lines(k, ubound,lty=3,lwd= 2, col=\"blue\")\n",
    "lines(k, lbound,lty=3,lwd= 2, col=\"blue\") \n",
    " \n",
    "obs=EU[(n-12+1):n] \n",
    "predict=modpred$pred \n",
    "MAPE=mean(abs(predict-obs)/obs) \n",
    "PM=sum((predict-obs)^2)/sum((obs-mean(obs))^2) \n",
    "MAPE\n",
    "PM\n"
   ]
  },
  {
   "cell_type": "code",
   "execution_count": 32,
   "metadata": {},
   "outputs": [
    {
     "data": {
      "text/html": [
       "0.0194074708701291"
      ],
      "text/latex": [
       "0.0194074708701291"
      ],
      "text/markdown": [
       "0.0194074708701291"
      ],
      "text/plain": [
       "[1] 0.01940747"
      ]
     },
     "metadata": {},
     "output_type": "display_data"
    },
    {
     "data": {
      "text/html": [
       "2.99908826278188"
      ],
      "text/latex": [
       "2.99908826278188"
      ],
      "text/markdown": [
       "2.99908826278188"
      ],
      "text/plain": [
       "[1] 2.999088"
      ]
     },
     "metadata": {},
     "output_type": "display_data"
    },
    {
     "data": {
      "image/png": "[encoded data removed]",
      "text/plain": [
       "Plot with title \"GBP\""
      ]
     },
     "metadata": {},
     "output_type": "display_data"
    }
   ],
   "source": [
    "n = length(GBP) \n",
    "nfit = n-12 \n",
    "porder=2 \n",
    "qoredr=0 \n",
    "modfit = arima(GBP[1:nfit], order = c(porder,1,qorder),method = \"ML\") \n",
    "modpred = predict(modfit,n.ahead=12) \n",
    " \n",
    "ubound = modpred$pred+1.96*modpred$se \n",
    "\n",
    "lbound = modpred$pred-1.96*modpred$se \n",
    "ymin = min(lbound) \n",
    "ymax = max(ubound) \n",
    "k=seq(nfit+1, n, 1) \n",
    "k1=seq(n-20, n, 1)\n",
    "par(mfrow=c(2,2))\n",
    "plot(k1, GBP[(n-20):n], type=\"l\", ylim=c(ymin,ymax), xlab=\"Time\", ylab=\"# of s ongs\", main=\"GBP\") \n",
    "points(k,modpred$pred,col=\"red\") \n",
    "lines(k, ubound,lty=3,lwd= 2, col=\"blue\")\n",
    "lines(k, lbound,lty=3,lwd= 2, col=\"blue\") \n",
    " \n",
    "obs=GBP[(n-12+1):n] \n",
    "predict=modpred$pred \n",
    "MAPE=mean(abs(predict-obs)/obs) \n",
    "PM=sum((predict-obs)^2)/sum((obs-mean(obs))^2) \n",
    "MAPE\n",
    "PM"
   ]
  }
 ],
 "metadata": {
  "kernelspec": {
   "display_name": "R",
   "language": "R",
   "name": "ir"
  },
  "language_info": {
   "codemirror_mode": "r",
   "file_extension": ".r",
   "mimetype": "text/x-r-source",
   "name": "R",
   "pygments_lexer": "r",
   "version": "3.6.1"
  }
 },
 "nbformat": 4,
 "nbformat_minor": 2
}
